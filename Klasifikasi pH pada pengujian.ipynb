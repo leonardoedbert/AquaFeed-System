{
 "cells": [
  {
   "cell_type": "code",
   "execution_count": 1,
   "id": "b18983cf",
   "metadata": {},
   "outputs": [
    {
     "name": "stdout",
     "output_type": "stream",
     "text": [
      "Berikut adalah klasifikasi warna air : Bening Kehijauan, Kekuningan, Bening\n",
      "Masukkan warna air: bening kehijauan\n",
      "Estimated pH: pH 7\n"
     ]
    }
   ],
   "source": [
    "def classify_pH(color):\n",
    "    if color == 'bening kehijauan':\n",
    "        return 'pH 7'\n",
    "    elif color == 'kekuningan':\n",
    "        return 'pH 8'\n",
    "    elif color == 'bening':\n",
    "        return 'pH 6'\n",
    "    else:\n",
    "        return 'Tidak Diketahui'\n",
    "\n",
    "if __name__ == \"__main__\":\n",
    "    print(\"Berikut adalah klasifikasi warna air : Bening Kehijauan, Kekuningan, Bening\")\n",
    "    input_color = input(\"Masukkan warna air: \")\n",
    "    estimated_pH = classify_pH(input_color.lower())\n",
    "\n",
    "    if estimated_pH == 'Tidak Diketahui':\n",
    "        print(\"Maaf, tidak dapat mengklasifikasikan pH berdasarkan warna yang diberikan.\")\n",
    "    else:\n",
    "        print(f'Estimated pH: {estimated_pH}')\n"
   ]
  },
  {
   "cell_type": "code",
   "execution_count": null,
   "id": "7f87dcb4",
   "metadata": {},
   "outputs": [],
   "source": []
  }
 ],
 "metadata": {
  "kernelspec": {
   "display_name": "Python 3 (ipykernel)",
   "language": "python",
   "name": "python3"
  },
  "language_info": {
   "codemirror_mode": {
    "name": "ipython",
    "version": 3
   },
   "file_extension": ".py",
   "mimetype": "text/x-python",
   "name": "python",
   "nbconvert_exporter": "python",
   "pygments_lexer": "ipython3",
   "version": "3.9.13"
  }
 },
 "nbformat": 4,
 "nbformat_minor": 5
}
