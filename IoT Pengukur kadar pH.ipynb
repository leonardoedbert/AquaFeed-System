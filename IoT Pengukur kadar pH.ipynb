{
 "cells": [
  {
   "cell_type": "code",
   "execution_count": null,
   "id": "30fd6d52",
   "metadata": {},
   "outputs": [],
   "source": [
    "import cv2\n",
    "import numpy as np\n",
    "\n",
    "# Import pustaka OpenCV (cv2) dan pustaka NumPy (np) untuk penggunaan dalam program.\n",
    "\n",
    "class IoTpHAnalyzer:\n",
    "    def __init__(self, device_id):\n",
    "        self.device_id = device_id\n",
    "    \n",
    "    # Mendefinisikan kelas \"IoTpHAnalyzer\" untuk perangkat IoT pengukur pH.\n",
    "    # __init__ adalah konstruktor yang dipanggil saat menciptakan instance baru.\n",
    "\n",
    "    def analyze_pH_color(self, color):\n",
    "        # Mendefinisikan metode \"analyze_pH_color\" untuk menganalisis pH berdasarkan warna.\n",
    "        \n",
    "        hsv_color = cv2.cvtColor(np.uint8([[color]]), cv2.COLOR_BGR2HSV)[0][0]\n",
    "        # Mengonversi warna BGR menjadi HSV untuk analisis.\n",
    "        \n",
    "        estimated_pH = (hsv_color[0] / 179) * 13 + 1\n",
    "        # Menghitung perkiraan pH berdasarkan nilai Hue dalam model warna HSV.\n",
    "        \n",
    "        return estimated_pH\n",
    "        # Mengembalikan nilai perkiraan pH yang dihitung.\n",
    "\n",
    "    def receive_color(self, color):\n",
    "        # Mendefinisikan metode \"receive_color\" untuk menerima warna dan menghitung perkiraan pH.\n",
    "        \n",
    "        estimated_pH = self.analyze_pH_color(color)\n",
    "        # Memanggil metode \"analyze_pH_color\" untuk menganalisis warna dan menghitung perkiraan pH.\n",
    "        \n",
    "        print(f\"Device {self.device_id} estimated pH: {estimated_pH:.2f}\")\n",
    "        # Mencetak perkiraan pH yang dihitung bersama dengan ID perangkat.\n",
    "\n",
    "# Membuat instance perangkat IoT pengukur pH\n",
    "ph_analyzer = IoTpHAnalyzer(device_id=\"54321\")\n",
    "# Membuat instance dari kelas \"IoTpHAnalyzer\" dengan ID perangkat \"54321\".\n",
    "\n",
    "# Menerima warna dan menghitung perkiraan pH\n",
    "received_color = np.array([50, 100, 150], dtype=np.uint8)  # Contoh warna dalam BGR\n",
    "ph_analyzer.receive_color(received_color)\n",
    "# Memanggil metode \"receive_color\" pada instance \"ph_analyzer\" dengan warna yang diterima.\n"
   ]
  }
 ],
 "metadata": {
  "kernelspec": {
   "display_name": "Python 3 (ipykernel)",
   "language": "python",
   "name": "python3"
  },
  "language_info": {
   "codemirror_mode": {
    "name": "ipython",
    "version": 3
   },
   "file_extension": ".py",
   "mimetype": "text/x-python",
   "name": "python",
   "nbconvert_exporter": "python",
   "pygments_lexer": "ipython3",
   "version": "3.9.13"
  }
 },
 "nbformat": 4,
 "nbformat_minor": 5
}
