{
 "cells": [
  {
   "cell_type": "code",
   "execution_count": 1,
   "id": "52a5fb86",
   "metadata": {},
   "outputs": [],
   "source": [
    "import numpy as np\n",
    "import pandas as pd\n",
    "import matplotlib.pyplot as plt"
   ]
  },
  {
   "cell_type": "code",
   "execution_count": 15,
   "id": "2f264965",
   "metadata": {},
   "outputs": [
    {
     "ename": "IndentationError",
     "evalue": "unexpected indent (3583816135.py, line 32)",
     "output_type": "error",
     "traceback": [
      "\u001b[1;36m  File \u001b[1;32m\"C:\\Users\\santi\\AppData\\Local\\Temp\\ipykernel_12352\\3583816135.py\"\u001b[1;36m, line \u001b[1;32m32\u001b[0m\n\u001b[1;33m    print(\"Daftar Pakan:\")\u001b[0m\n\u001b[1;37m    ^\u001b[0m\n\u001b[1;31mIndentationError\u001b[0m\u001b[1;31m:\u001b[0m unexpected indent\n"
     ]
    }
   ],
   "source": [
    "class Food :\n",
    "    def __init__(self, name, protein, lemak, abu, serat, karbohidrat, air) :\n",
    "        self.name        = name \n",
    "        self.protein     = protein \n",
    "        self.lemak       = lemak \n",
    "        self.abu         = abu \n",
    "        self.serat       = serat \n",
    "        self.karbohidrat = karbohidrat \n",
    "        self.air         = air \n",
    "        \n",
    "        \n",
    "def main():\n",
    "    # Berikut adalah data untuk pakan ikan berbahan dasar hewani\n",
    "    foods_hewani = [\n",
    "        Food(\"Tepung Ikan\", 22.65, 15.38, 26.65, 1.8, 0, 10.72),\n",
    "        Food(\"Tepung Rebon\", 59.4, 3.6, 0, 0, 3.2, 21.6),\n",
    "        Food(\"Tepung Benawa\", 23.38, 25.33, 11.41, 11.82, 0.06, 5.43),\n",
    "        Food(\"Tepung Kepala Udang\", 48.35, 6.65, 14.61, 14.61, 0, 17.28),\n",
    "        Food(\"Tepung Anak Ayam\", 61.65, 27.30, 2.34, 0, 0, 8.8),\n",
    "        Food(\"Tepung Kepompong Ulat Sutra\", 46.74, 29.75, 4.86, 8.89, 0, 9.76),\n",
    "        Food(\"Ampas Minyak Hati Ikan\", 25.08, 56.75, 6.6, 0, 0, 12.06),\n",
    "        Food(\"Tepung Darah\", 71.45, 0.42, 5.45, 7.95, 13.12, 5.19),\n",
    "        Food(\"Silase Ikan\", 20, 2, 5.5, 0, 0, 2.5),\n",
    "        Food(\"Tepung Tulang\", 25.54, 3.8, 61.6, 1.8, 0, 5.52),\n",
    "        Food(\"Tepung Bekicot\", 54.29, 4.18, 4.07, 0, 30.45, 7.01),\n",
    "        Food(\"Tepung Cacing Tanah\", 72, 0, 0, 0, 0, 0),\n",
    "        Food(\"Telur Ayam\", 12.8, 11.5, 0, 0, 0.7, 74),\n",
    "        Food(\"Tepung Susu\", 35.6, 1, 0, 0, 52, 3.5)\n",
    "    ]\n",
    "\n",
    " \n",
    "        print(\"Daftar Pakan:\")\n",
    "        for i, food in enumerate(foods_hewani , start=1):\n",
    "        print(f\"{i}. {food.name}\")\n",
    "        \n",
    "        choice = int(input(\"Pilih pakan yang anda gunakan : \"))\n",
    "        \n",
    "        if choice > 0 and choice <= len(foods_hewani):\n",
    "            selected_food = foods_hewani[choice - 1]\n",
    "            print(\"\\nInformasi Makanan:\")\n",
    "            print(f\"Nama: {selected_food.name}\")\n",
    "            print(f\"Protein: {selected_food.protein} %\")\n",
    "            print(f\"Lemak: {selected_food.lemak} %\")\n",
    "            print(f\"Abu: {selected_food.abu} %\")\n",
    "            print(f\"Serat: {selected_food.serat} %\")\n",
    "            print(f\"Karbohidrat: {selected_food.karbohidrat} %\")\n",
    "            print(f\"Air: {selected_food.air} %\")\n",
    "\n",
    "        else : print(\"Pakan tidak valid\")\n",
    "\n",
    "if __name__ == \"__main__\":\n",
    "    main()\n",
    "\n",
    "\n"
   ]
  },
  {
   "cell_type": "code",
   "execution_count": 2,
   "id": "d27f6496",
   "metadata": {},
   "outputs": [
    {
     "name": "stdout",
     "output_type": "stream",
     "text": [
      "Device Aquafeed sending data: Informasi Pakan\n",
      "Device Aquafeed received command: turn on\n",
      "Unknown command.\n"
     ]
    }
   ],
   "source": [
    "class FeedDevice:\n",
    "    def __init__(self, device_id):\n",
    "        self.device_id = device_id\n",
    "    \n",
    "    def send_data(self, data):\n",
    "        print(f\"Device {self.device_id} sending data: {data}\")\n",
    "    \n",
    "    def receive_command(self, command):\n",
    "        \n",
    "        print(f\"Device {self.device_id} received command: {command}\")\n",
    "        if command == \"turn_on\":\n",
    "            print(\"Turning on the device...\")\n",
    "        elif command == \"turn_off\":\n",
    "            print(\"Turning off the device...\")\n",
    "        else:\n",
    "            print(\"Unknown command.\")\n",
    "\n",
    "\n",
    "feed_device = FeedDevice(device_id=\"Aquafeed\")\n",
    "\n",
    "\n",
    "data_to_send = \"Informasi Pakan\"\n",
    "feed_device.send_data(data_to_send)\n",
    "\n",
    "\n",
    "received_command = \"turn on\"\n",
    "feed_device.receive_command(received_command)"
   ]
  },
  {
   "cell_type": "code",
   "execution_count": 12,
   "id": "222b8a9f",
   "metadata": {},
   "outputs": [
    {
     "name": "stdout",
     "output_type": "stream",
     "text": [
      "Device 98765 received command: feed\n",
      "Feeding fish with device 98765\n"
     ]
    }
   ],
   "source": [
    "class IoTFishFeeder:\n",
    "    def __init__(self, device_id):\n",
    "        self.device_id = device_id\n",
    "    \n",
    "    def feed_fish(self):\n",
    "      \n",
    "        print(f\"Feeding fish with device {self.device_id}\")\n",
    "    \n",
    "    def receive_command(self, command):\n",
    "        # Simulasikan penerimaan perintah dari aplikasi\n",
    "        print(f\"Device {self.device_id} received command: {command}\")\n",
    "        if command == \"feed\":\n",
    "            self.feed_fish()\n",
    "        else:\n",
    "            print(\"Unknown command.\")\n",
    "\n",
    "# Membuat instance perangkat IoT pemberi pakan ikan\n",
    "fish_feeder = IoTFishFeeder(device_id=\"98765\")\n",
    "\n",
    "# Menerima perintah dari aplikasi dan memberikan pakan kepada ikan\n",
    "received_command = \"feed\"\n",
    "fish_feeder.receive_command(received_command)\n"
   ]
  },
  {
   "cell_type": "code",
   "execution_count": null,
   "id": "be6d4f7b",
   "metadata": {},
   "outputs": [],
   "source": []
  }
 ],
 "metadata": {
  "kernelspec": {
   "display_name": "Python 3 (ipykernel)",
   "language": "python",
   "name": "python3"
  },
  "language_info": {
   "codemirror_mode": {
    "name": "ipython",
    "version": 3
   },
   "file_extension": ".py",
   "mimetype": "text/x-python",
   "name": "python",
   "nbconvert_exporter": "python",
   "pygments_lexer": "ipython3",
   "version": "3.9.13"
  }
 },
 "nbformat": 4,
 "nbformat_minor": 5
}
